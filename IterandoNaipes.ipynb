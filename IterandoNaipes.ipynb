{
 "cells": [
  {
   "cell_type": "code",
   "execution_count": 97,
   "metadata": {},
   "outputs": [],
   "source": [
    "import random as r\n",
    "import itertools as itt\n",
    "import sys\n",
    "from scipy.stats import chi2\n",
    "%run ~/code/EfedEquis/Efedequis/poquer/baraja/baraja"
   ]
  },
  {
   "cell_type": "code",
   "execution_count": 69,
   "metadata": {},
   "outputs": [],
   "source": [
    "n = Naipe((1,0))"
   ]
  },
  {
   "cell_type": "code",
   "execution_count": 70,
   "metadata": {},
   "outputs": [
    {
     "data": {
      "text/plain": [
       "(1, 0)"
      ]
     },
     "execution_count": 70,
     "metadata": {},
     "output_type": "execute_result"
    }
   ],
   "source": [
    "n.get_as_tuple()"
   ]
  },
  {
   "cell_type": "code",
   "execution_count": 71,
   "metadata": {},
   "outputs": [],
   "source": [
    "b = Baraja()"
   ]
  },
  {
   "cell_type": "code",
   "execution_count": 100,
   "metadata": {},
   "outputs": [],
   "source": [
    "m = Mano([(1,0),(1,2),(1,3),(10,2),(4,3)])"
   ]
  },
  {
   "cell_type": "code",
   "execution_count": 101,
   "metadata": {},
   "outputs": [
    {
     "name": "stdout",
     "output_type": "stream",
     "text": [
      "🃑\n",
      "🃁\n",
      "🃄\n",
      "🂡\n",
      "🃚\n"
     ]
    }
   ],
   "source": [
    "for n in iter(m):\n",
    "    print(Naipe(n).repr_naipe())"
   ]
  },
  {
   "cell_type": "code",
   "execution_count": 102,
   "metadata": {},
   "outputs": [
    {
     "data": {
      "text/plain": [
       "(A,♣),(A,♦),(4,♦),(A,♠),(10,♣)"
      ]
     },
     "execution_count": 102,
     "metadata": {},
     "output_type": "execute_result"
    }
   ],
   "source": [
    "m"
   ]
  },
  {
   "cell_type": "code",
   "execution_count": 62,
   "metadata": {},
   "outputs": [
    {
     "data": {
      "text/plain": [
       "6"
      ]
     },
     "execution_count": 62,
     "metadata": {},
     "output_type": "execute_result"
    }
   ],
   "source": [
    "45%13"
   ]
  },
  {
   "cell_type": "code",
   "execution_count": 64,
   "metadata": {},
   "outputs": [
    {
     "data": {
      "text/plain": [
       "3"
      ]
     },
     "execution_count": 64,
     "metadata": {},
     "output_type": "execute_result"
    }
   ],
   "source": [
    "int(45/13)"
   ]
  },
  {
   "cell_type": "code",
   "execution_count": 7,
   "metadata": {},
   "outputs": [
    {
     "name": "stdout",
     "output_type": "stream",
     "text": [
      "[🂽, 🃗, 🃁, 🃄, 🂸]\n"
     ]
    }
   ],
   "source": [
    "b.revolver()\n",
    "mac = b.sacar_lista_naipes(5)\n",
    "print(mac)"
   ]
  },
  {
   "cell_type": "code",
   "execution_count": 497,
   "metadata": {},
   "outputs": [
    {
     "name": "stdout",
     "output_type": "stream",
     "text": [
      "(8,♥),(Q,♣),(J,♣),(6,♥),(Q,♥)\n"
     ]
    },
    {
     "data": {
      "text/plain": [
       "'Jacks or Better'"
      ]
     },
     "execution_count": 497,
     "metadata": {},
     "output_type": "execute_result"
    }
   ],
   "source": [
    "m = b.revolver().sacar_mano(5)\n",
    "print(m)\n",
    "m.hay_premio()"
   ]
  },
  {
   "cell_type": "code",
   "execution_count": 500,
   "metadata": {},
   "outputs": [
    {
     "data": {
      "text/plain": [
       "True"
      ]
     },
     "execution_count": 500,
     "metadata": {},
     "output_type": "execute_result"
    }
   ],
   "source": [
    "'jacks' in m.hay_premio().lower()"
   ]
  },
  {
   "cell_type": "code",
   "execution_count": 360,
   "metadata": {},
   "outputs": [
    {
     "data": {
      "text/plain": [
       "(1, 3)"
      ]
     },
     "execution_count": 360,
     "metadata": {},
     "output_type": "execute_result"
    }
   ],
   "source": [
    "list(filter(lambda x: x[0] == 1, mac))[0]"
   ]
  },
  {
   "cell_type": "code",
   "execution_count": 466,
   "metadata": {},
   "outputs": [
    {
     "name": "stdout",
     "output_type": "stream",
     "text": [
      "(9,♣),(J,♠),(J,♣),(A,♦),(Q,♥)\n"
     ]
    }
   ],
   "source": [
    "n=0\n",
    "#conjunto = set()\n",
    "b.revolver()\n",
    "while True and n<10000:\n",
    "    b.revolver()\n",
    "    ma = b.sacar_mano(5)\n",
    "    if ma.is_jacks_or_better():\n",
    "        print(b.sacar_mano(5))\n",
    "        break\n",
    "    n += 1"
   ]
  },
  {
   "cell_type": "code",
   "execution_count": 426,
   "metadata": {},
   "outputs": [
    {
     "data": {
      "text/plain": [
       "True"
      ]
     },
     "execution_count": 426,
     "metadata": {},
     "output_type": "execute_result"
    }
   ],
   "source": [
    "ma.is_full_house()"
   ]
  },
  {
   "cell_type": "markdown",
   "metadata": {},
   "source": []
  },
  {
   "cell_type": "code",
   "execution_count": 83,
   "metadata": {},
   "outputs": [
    {
     "name": "stdout",
     "output_type": "stream",
     "text": [
      "(3,♣)\n",
      "(4,♣)\n",
      "(5,♣)\n",
      "(6,♣)\n",
      "(7,♣)\n",
      "(8,♣)\n",
      "(9,♣)\n",
      "(10,♣)\n",
      "(J,♣)\n",
      "(Q,♣)\n",
      "(K,♣)\n",
      "(A,♣)\n",
      "(2,♣)\n",
      "(3,♣)\n",
      "(4,♣)\n",
      "(5,♣)\n",
      "(6,♣)\n",
      "(7,♣)\n",
      "(8,♣)\n",
      "(9,♣)\n",
      "(10,♣)\n",
      "(J,♣)\n",
      "(Q,♣)\n",
      "(K,♣)\n",
      "(A,♣)\n",
      "(2,♣)\n"
     ]
    }
   ],
   "source": [
    "n = Naipe((3,2))\n",
    "for k in range(26):\n",
    "    print(n)\n",
    "    n = n.get_successor()"
   ]
  },
  {
   "cell_type": "code",
   "execution_count": null,
   "metadata": {},
   "outputs": [],
   "source": []
  },
  {
   "cell_type": "code",
   "execution_count": 175,
   "metadata": {},
   "outputs": [
    {
     "data": {
      "text/plain": [
       "True"
      ]
     },
     "execution_count": 175,
     "metadata": {},
     "output_type": "execute_result"
    }
   ],
   "source": [
    "isinstance(Naipe((1,0)),Naipe)"
   ]
  },
  {
   "cell_type": "code",
   "execution_count": 149,
   "metadata": {},
   "outputs": [
    {
     "name": "stdout",
     "output_type": "stream",
     "text": [
      "['d', 1, 3, 4, 5]\n"
     ]
    }
   ],
   "source": [
    "lst = [1,3,4,5]\n",
    "lst.insert(0,'d')\n",
    "print(lst)"
   ]
  },
  {
   "cell_type": "code",
   "execution_count": 16,
   "metadata": {},
   "outputs": [
    {
     "data": {
      "text/plain": [
       "{(8,♥),(4,♣),(K,♣),(4,♦),(4,♠),\n",
       " (9,♣),(2,♠),(9,♠),(9,♦),(3,♦),\n",
       " (9,♣),(J,♠),(J,♥),(10,♦),(J,♦),\n",
       " (9,♣),(7,♦),(5,♣),(7,♣),(7,♥),\n",
       " (3,♠),(3,♣),(6,♣),(9,♥),(3,♦)}"
      ]
     },
     "execution_count": 16,
     "metadata": {},
     "output_type": "execute_result"
    }
   ],
   "source": [
    "conjunto"
   ]
  },
  {
   "cell_type": "code",
   "execution_count": 169,
   "metadata": {},
   "outputs": [
    {
     "name": "stdout",
     "output_type": "stream",
     "text": [
      "((1, 0), (1, 1), (1, 2))\n",
      "((1, 0), (1, 1), (1, 3))\n",
      "((1, 0), (1, 1), (2, 0))\n",
      "((1, 0), (1, 2), (1, 3))\n",
      "((1, 0), (1, 2), (2, 0))\n",
      "((1, 0), (1, 3), (2, 0))\n",
      "((1, 1), (1, 2), (1, 3))\n",
      "((1, 1), (1, 2), (2, 0))\n",
      "((1, 1), (1, 3), (2, 0))\n",
      "((1, 2), (1, 3), (2, 0))\n"
     ]
    }
   ],
   "source": [
    "import itertools as itert\n",
    "for i in itert.combinations(b.sacar_mano(10),5):\n",
    "    print(i)"
   ]
  },
  {
   "cell_type": "code",
   "execution_count": 159,
   "metadata": {},
   "outputs": [
    {
     "data": {
      "text/plain": [
       "86"
      ]
     },
     "execution_count": 159,
     "metadata": {},
     "output_type": "execute_result"
    }
   ],
   "source": [
    "len(conjunto)    "
   ]
  },
  {
   "cell_type": "code",
   "execution_count": 132,
   "metadata": {},
   "outputs": [
    {
     "name": "stdout",
     "output_type": "stream",
     "text": [
      "(J,♦),(Q,♥),(7,♠),(7,♦),(10,♥),(4,♣),(5,♦),(4,♦),(5,♥),(9,♣),(6,♥),(Q,♦),(7,♥),(A,♥),(8,♣),(A,♣),(J,♥),(6,♠),(J,♠),(8,♦),(2,♦),(K,♠),(K,♣),(K,♦),(9,♠),(10,♠),(Q,♠),(J,♣),(2,♥),(A,♦),(8,♠),(5,♣),(K,♥),(3,♠),(9,♥),(4,♥),(5,♠),(4,♠),(2,♣),(3,♣),(3,♥),(10,♣),(3,♦),(Q,♣),(6,♦),(9,♦),(A,♠),(8,♥),(7,♣),(6,♣),(10,♦),(2,♠)\n"
     ]
    },
    {
     "data": {
      "text/plain": [
       "False"
      ]
     },
     "execution_count": 132,
     "metadata": {},
     "output_type": "execute_result"
    }
   ],
   "source": [
    "print(b.revolver())\n",
    "b.chequear_3_iguales()"
   ]
  },
  {
   "cell_type": "code",
   "execution_count": 139,
   "metadata": {},
   "outputs": [
    {
     "name": "stdout",
     "output_type": "stream",
     "text": [
      "{1, 2, 20}\n"
     ]
    }
   ],
   "source": [
    "con = set([1,2])\n",
    "con.add(20)\n",
    "print(con)"
   ]
  },
  {
   "cell_type": "code",
   "execution_count": 34,
   "metadata": {},
   "outputs": [
    {
     "ename": "ValueError",
     "evalue": "",
     "output_type": "error",
     "traceback": [
      "\u001b[1;31m---------------------------------------------------------------------------\u001b[0m\n\u001b[1;31mValueError\u001b[0m                                Traceback (most recent call last)",
      "\u001b[1;32m<ipython-input-34-4b1e43cba4ad>\u001b[0m in \u001b[0;36m<module>\u001b[1;34m()\u001b[0m\n\u001b[1;32m----> 1\u001b[1;33m \u001b[1;32mraise\u001b[0m \u001b[0mValueError\u001b[0m\u001b[1;33m(\u001b[0m\u001b[1;33m)\u001b[0m\u001b[1;33m\u001b[0m\u001b[0m\n\u001b[0m",
      "\u001b[1;31mValueError\u001b[0m: "
     ]
    }
   ],
   "source": [
    "raise ValueError()"
   ]
  },
  {
   "cell_type": "code",
   "execution_count": 129,
   "metadata": {},
   "outputs": [
    {
     "name": "stdout",
     "output_type": "stream",
     "text": [
      "|\u001b[6Cmejorando\r"
     ]
    }
   ],
   "source": [
    "import io\n",
    "import sys\n",
    "import time\n",
    "\n",
    "\n",
    "#sys.stdout.write('/033[31m' + 'some red text\\n')\n",
    "#sys.stdout.flush()\n",
    "\n",
    "t = 0\n",
    "while t<400:\n",
    "    for i in [\"/\",\"-\",\"|\",\"\\\\\",\"|\"]:\n",
    "        sys.stdout.write(\"%s\\r\" %(i + \"\\033[6Cmejorando\"))\n",
    "        sys.stdout.flush()\n",
    "        time.sleep(0.1)\n",
    "        t=t+1"
   ]
  },
  {
   "cell_type": "code",
   "execution_count": 145,
   "metadata": {},
   "outputs": [
    {
     "data": {
      "text/plain": [
       "[1, 3]"
      ]
     },
     "execution_count": 145,
     "metadata": {},
     "output_type": "execute_result"
    }
   ],
   "source": [
    "lis = [1,3]\n",
    "lis."
   ]
  },
  {
   "cell_type": "code",
   "execution_count": 3,
   "metadata": {},
   "outputs": [],
   "source": [
    "b = Baraja()"
   ]
  },
  {
   "cell_type": "code",
   "execution_count": 5,
   "metadata": {},
   "outputs": [
    {
     "name": "stdout",
     "output_type": "stream",
     "text": [
      "624\n"
     ]
    }
   ],
   "source": [
    "suma = 0\n",
    "for i in itt.combinations(b._cartas_,5):\n",
    "    if Mano(i).is_poker():\n",
    "        suma += 1\n",
    "print(suma)"
   ]
  },
  {
   "cell_type": "code",
   "execution_count": 582,
   "metadata": {},
   "outputs": [
    {
     "data": {
      "text/plain": [
       "123552.0"
      ]
     },
     "execution_count": 582,
     "metadata": {},
     "output_type": "execute_result"
    }
   ],
   "source": [
    "13*12*36*44/2"
   ]
  },
  {
   "cell_type": "code",
   "execution_count": 598,
   "metadata": {},
   "outputs": [
    {
     "data": {
      "text/plain": [
       "3744"
      ]
     },
     "execution_count": 598,
     "metadata": {},
     "output_type": "execute_result"
    }
   ],
   "source": [
    "13*6*12*4 "
   ]
  },
  {
   "cell_type": "code",
   "execution_count": 36,
   "metadata": {},
   "outputs": [
    {
     "name": "stdout",
     "output_type": "stream",
     "text": [
      "(5,♦),(10,♠),(9,♦),(A,♥),(4,♠)\n"
     ]
    }
   ],
   "source": [
    "print(Mano(i))"
   ]
  },
  {
   "cell_type": "code",
   "execution_count": 37,
   "metadata": {},
   "outputs": [
    {
     "data": {
      "text/plain": [
       "0.017711390640347265"
      ]
     },
     "execution_count": 37,
     "metadata": {},
     "output_type": "execute_result"
    }
   ],
   "source": [
    "2794946/157805000"
   ]
  },
  {
   "cell_type": "code",
   "execution_count": 40,
   "metadata": {},
   "outputs": [
    {
     "data": {
      "text/plain": [
       "0.02256902761104442"
      ]
     },
     "execution_count": 40,
     "metadata": {},
     "output_type": "execute_result"
    }
   ],
   "source": [
    "58656.0/2598960"
   ]
  },
  {
   "cell_type": "code",
   "execution_count": 42,
   "metadata": {},
   "outputs": [
    {
     "data": {
      "text/plain": [
       "624"
      ]
     },
     "execution_count": 42,
     "metadata": {},
     "output_type": "execute_result"
    }
   ],
   "source": [
    "13*48"
   ]
  },
  {
   "cell_type": "code",
   "execution_count": 528,
   "metadata": {},
   "outputs": [
    {
     "data": {
      "text/plain": [
       "1000000"
      ]
     },
     "execution_count": 528,
     "metadata": {},
     "output_type": "execute_result"
    }
   ],
   "source": [
    "int(10e5)"
   ]
  },
  {
   "cell_type": "code",
   "execution_count": 541,
   "metadata": {},
   "outputs": [
    {
     "data": {
      "text/plain": [
       "True"
      ]
     },
     "execution_count": 541,
     "metadata": {},
     "output_type": "execute_result"
    }
   ],
   "source": [
    "Naipe((1,0)) == Naipe((1,0))\n",
    "    "
   ]
  },
  {
   "cell_type": "code",
   "execution_count": 542,
   "metadata": {},
   "outputs": [
    {
     "data": {
      "text/plain": [
       "True"
      ]
     },
     "execution_count": 542,
     "metadata": {},
     "output_type": "execute_result"
    }
   ],
   "source": [
    "b.sacar_mano(5) == b.sacar_mano(5)"
   ]
  },
  {
   "cell_type": "code",
   "execution_count": 573,
   "metadata": {},
   "outputs": [
    {
     "name": "stdout",
     "output_type": "stream",
     "text": [
      "CPU times: user 1min 34s, sys: 0 ns, total: 1min 34s\n",
      "Wall time: 1min 34s\n"
     ]
    }
   ],
   "source": [
    "%%time\n",
    "X = 0\n",
    "for i in range(int(10e5)):\n",
    "    b.revolver()\n",
    "    if Naipe((1,0)) == b.sacar_lista_naipes(1)[0]:\n",
    "        X += 1"
   ]
  },
  {
   "cell_type": "code",
   "execution_count": 574,
   "metadata": {},
   "outputs": [
    {
     "data": {
      "text/plain": [
       "19442"
      ]
     },
     "execution_count": 574,
     "metadata": {},
     "output_type": "execute_result"
    }
   ],
   "source": [
    "X"
   ]
  },
  {
   "cell_type": "code",
   "execution_count": 552,
   "metadata": {},
   "outputs": [
    {
     "data": {
      "text/plain": [
       "🃄"
      ]
     },
     "execution_count": 552,
     "metadata": {},
     "output_type": "execute_result"
    }
   ],
   "source": [
    "b.sacar_lista_naipes(1)[0]"
   ]
  },
  {
   "cell_type": "code",
   "execution_count": 563,
   "metadata": {},
   "outputs": [
    {
     "name": "stdout",
     "output_type": "stream",
     "text": [
      "10000 loops, best of 3: 82.9 µs per loop\n"
     ]
    }
   ],
   "source": [
    "%timeit b.revolver()"
   ]
  },
  {
   "cell_type": "code",
   "execution_count": 566,
   "metadata": {},
   "outputs": [
    {
     "name": "stdout",
     "output_type": "stream",
     "text": [
      "100000 loops, best of 3: 7.55 µs per loop\n"
     ]
    }
   ],
   "source": [
    "%timeit Naipe((1,0)) == b.sacar_lista_naipes(1)[0]"
   ]
  },
  {
   "cell_type": "code",
   "execution_count": 567,
   "metadata": {},
   "outputs": [
    {
     "data": {
      "text/plain": [
       "0.0829"
      ]
     },
     "execution_count": 567,
     "metadata": {},
     "output_type": "execute_result"
    }
   ],
   "source": [
    "82.9e-9*10e5"
   ]
  },
  {
   "cell_type": "code",
   "execution_count": 569,
   "metadata": {},
   "outputs": [
    {
     "name": "stdout",
     "output_type": "stream",
     "text": [
      "100000 loops, best of 3: 1.98 µs per loop\n"
     ]
    }
   ],
   "source": [
    "%timeit Naipe((1,0))"
   ]
  },
  {
   "cell_type": "code",
   "execution_count": null,
   "metadata": {},
   "outputs": [],
   "source": []
  }
 ],
 "metadata": {
  "kernelspec": {
   "display_name": "Python 3",
   "language": "python",
   "name": "python3"
  },
  "language_info": {
   "codemirror_mode": {
    "name": "ipython",
    "version": 3
   },
   "file_extension": ".py",
   "mimetype": "text/x-python",
   "name": "python",
   "nbconvert_exporter": "python",
   "pygments_lexer": "ipython3",
   "version": "3.6.5"
  }
 },
 "nbformat": 4,
 "nbformat_minor": 1
}
